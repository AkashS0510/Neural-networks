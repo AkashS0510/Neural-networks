{
  "nbformat": 4,
  "nbformat_minor": 0,
  "metadata": {
    "colab": {
      "provenance": [],
      "collapsed_sections": []
    },
    "kernelspec": {
      "name": "python3",
      "display_name": "Python 3"
    },
    "language_info": {
      "name": "python"
    },
    "gpuClass": "standard"
  },
  "cells": [
    {
      "cell_type": "code",
      "execution_count": null,
      "metadata": {
        "id": "gUH2mvVk-6kj"
      },
      "outputs": [],
      "source": [
        "import tensorflow as tf\n",
        "from sklearn.datasets import load_breast_cancer\n",
        "from sklearn.model_selection import train_test_split\n",
        "import pandas as pd\n",
        "from sklearn.preprocessing import StandardScaler\n",
        "import matplotlib.pyplot as plt\n"
      ]
    },
    {
      "cell_type": "code",
      "source": [
        "print(tf.__version__)"
      ],
      "metadata": {
        "colab": {
          "base_uri": "https://localhost:8080/"
        },
        "id": "cp3fFr_t_ZoU",
        "outputId": "602ae2df-7393-433e-d121-88895ff77ede"
      },
      "execution_count": null,
      "outputs": [
        {
          "output_type": "stream",
          "name": "stdout",
          "text": [
            "2.9.2\n"
          ]
        }
      ]
    },
    {
      "cell_type": "code",
      "source": [
        "data=load_breast_cancer()\n"
      ],
      "metadata": {
        "id": "3feKjzdU_hjn"
      },
      "execution_count": null,
      "outputs": []
    },
    {
      "cell_type": "code",
      "source": [
        "data.keys()"
      ],
      "metadata": {
        "colab": {
          "base_uri": "https://localhost:8080/"
        },
        "id": "NU66jPY4_k4D",
        "outputId": "985fd3df-ed65-4ea7-b5b3-b28ba2b4fece"
      },
      "execution_count": null,
      "outputs": [
        {
          "output_type": "execute_result",
          "data": {
            "text/plain": [
              "dict_keys(['data', 'target', 'frame', 'target_names', 'DESCR', 'feature_names', 'filename', 'data_module'])"
            ]
          },
          "metadata": {},
          "execution_count": 4
        }
      ]
    },
    {
      "cell_type": "code",
      "source": [
        "data.target"
      ],
      "metadata": {
        "colab": {
          "base_uri": "https://localhost:8080/"
        },
        "id": "HGCoXccF_r2E",
        "outputId": "525f3931-2ab6-404c-afc7-c2509171b4ea"
      },
      "execution_count": null,
      "outputs": [
        {
          "output_type": "execute_result",
          "data": {
            "text/plain": [
              "array([0, 0, 0, 0, 0, 0, 0, 0, 0, 0, 0, 0, 0, 0, 0, 0, 0, 0, 0, 1, 1, 1,\n",
              "       0, 0, 0, 0, 0, 0, 0, 0, 0, 0, 0, 0, 0, 0, 0, 1, 0, 0, 0, 0, 0, 0,\n",
              "       0, 0, 1, 0, 1, 1, 1, 1, 1, 0, 0, 1, 0, 0, 1, 1, 1, 1, 0, 1, 0, 0,\n",
              "       1, 1, 1, 1, 0, 1, 0, 0, 1, 0, 1, 0, 0, 1, 1, 1, 0, 0, 1, 0, 0, 0,\n",
              "       1, 1, 1, 0, 1, 1, 0, 0, 1, 1, 1, 0, 0, 1, 1, 1, 1, 0, 1, 1, 0, 1,\n",
              "       1, 1, 1, 1, 1, 1, 1, 0, 0, 0, 1, 0, 0, 1, 1, 1, 0, 0, 1, 0, 1, 0,\n",
              "       0, 1, 0, 0, 1, 1, 0, 1, 1, 0, 1, 1, 1, 1, 0, 1, 1, 1, 1, 1, 1, 1,\n",
              "       1, 1, 0, 1, 1, 1, 1, 0, 0, 1, 0, 1, 1, 0, 0, 1, 1, 0, 0, 1, 1, 1,\n",
              "       1, 0, 1, 1, 0, 0, 0, 1, 0, 1, 0, 1, 1, 1, 0, 1, 1, 0, 0, 1, 0, 0,\n",
              "       0, 0, 1, 0, 0, 0, 1, 0, 1, 0, 1, 1, 0, 1, 0, 0, 0, 0, 1, 1, 0, 0,\n",
              "       1, 1, 1, 0, 1, 1, 1, 1, 1, 0, 0, 1, 1, 0, 1, 1, 0, 0, 1, 0, 1, 1,\n",
              "       1, 1, 0, 1, 1, 1, 1, 1, 0, 1, 0, 0, 0, 0, 0, 0, 0, 0, 0, 0, 0, 0,\n",
              "       0, 0, 1, 1, 1, 1, 1, 1, 0, 1, 0, 1, 1, 0, 1, 1, 0, 1, 0, 0, 1, 1,\n",
              "       1, 1, 1, 1, 1, 1, 1, 1, 1, 1, 1, 0, 1, 1, 0, 1, 0, 1, 1, 1, 1, 1,\n",
              "       1, 1, 1, 1, 1, 1, 1, 1, 1, 0, 1, 1, 1, 0, 1, 0, 1, 1, 1, 1, 0, 0,\n",
              "       0, 1, 1, 1, 1, 0, 1, 0, 1, 0, 1, 1, 1, 0, 1, 1, 1, 1, 1, 1, 1, 0,\n",
              "       0, 0, 1, 1, 1, 1, 1, 1, 1, 1, 1, 1, 1, 0, 0, 1, 0, 0, 0, 1, 0, 0,\n",
              "       1, 1, 1, 1, 1, 0, 1, 1, 1, 1, 1, 0, 1, 1, 1, 0, 1, 1, 0, 0, 1, 1,\n",
              "       1, 1, 1, 1, 0, 1, 1, 1, 1, 1, 1, 1, 0, 1, 1, 1, 1, 1, 0, 1, 1, 0,\n",
              "       1, 1, 1, 1, 1, 1, 1, 1, 1, 1, 1, 1, 0, 1, 0, 0, 1, 0, 1, 1, 1, 1,\n",
              "       1, 0, 1, 1, 0, 1, 0, 1, 1, 0, 1, 0, 1, 1, 1, 1, 1, 1, 1, 1, 0, 0,\n",
              "       1, 1, 1, 1, 1, 1, 0, 1, 1, 1, 1, 1, 1, 1, 1, 1, 1, 0, 1, 1, 1, 1,\n",
              "       1, 1, 1, 0, 1, 0, 1, 1, 0, 1, 1, 1, 1, 1, 0, 0, 1, 0, 1, 0, 1, 1,\n",
              "       1, 1, 1, 0, 1, 1, 0, 1, 0, 1, 0, 0, 1, 1, 1, 0, 1, 1, 1, 1, 1, 1,\n",
              "       1, 1, 1, 1, 1, 0, 1, 0, 0, 1, 1, 1, 1, 1, 1, 1, 1, 1, 1, 1, 1, 1,\n",
              "       1, 1, 1, 1, 1, 1, 1, 1, 1, 1, 1, 1, 0, 0, 0, 0, 0, 0, 1])"
            ]
          },
          "metadata": {},
          "execution_count": 5
        }
      ]
    },
    {
      "cell_type": "code",
      "source": [
        "data.target_names"
      ],
      "metadata": {
        "colab": {
          "base_uri": "https://localhost:8080/"
        },
        "id": "pX8eyduvAYli",
        "outputId": "c0b73bbb-703c-4303-caa2-08e31c5f2fe5"
      },
      "execution_count": null,
      "outputs": [
        {
          "output_type": "execute_result",
          "data": {
            "text/plain": [
              "array(['malignant', 'benign'], dtype='<U9')"
            ]
          },
          "metadata": {},
          "execution_count": 6
        }
      ]
    },
    {
      "cell_type": "code",
      "source": [
        "data.feature_names"
      ],
      "metadata": {
        "colab": {
          "base_uri": "https://localhost:8080/"
        },
        "id": "zwwU-Si4AfdC",
        "outputId": "f4261e7f-bb0a-4e6c-a1f7-db769f4ba503"
      },
      "execution_count": null,
      "outputs": [
        {
          "output_type": "execute_result",
          "data": {
            "text/plain": [
              "array(['mean radius', 'mean texture', 'mean perimeter', 'mean area',\n",
              "       'mean smoothness', 'mean compactness', 'mean concavity',\n",
              "       'mean concave points', 'mean symmetry', 'mean fractal dimension',\n",
              "       'radius error', 'texture error', 'perimeter error', 'area error',\n",
              "       'smoothness error', 'compactness error', 'concavity error',\n",
              "       'concave points error', 'symmetry error',\n",
              "       'fractal dimension error', 'worst radius', 'worst texture',\n",
              "       'worst perimeter', 'worst area', 'worst smoothness',\n",
              "       'worst compactness', 'worst concavity', 'worst concave points',\n",
              "       'worst symmetry', 'worst fractal dimension'], dtype='<U23')"
            ]
          },
          "metadata": {},
          "execution_count": 7
        }
      ]
    },
    {
      "cell_type": "code",
      "source": [
        "data.data.shape"
      ],
      "metadata": {
        "colab": {
          "base_uri": "https://localhost:8080/"
        },
        "id": "jRy6d5YrCvNV",
        "outputId": "787ae467-a9e5-48c9-be49-7094d4eb940b"
      },
      "execution_count": null,
      "outputs": [
        {
          "output_type": "execute_result",
          "data": {
            "text/plain": [
              "(569, 30)"
            ]
          },
          "metadata": {},
          "execution_count": 8
        }
      ]
    },
    {
      "cell_type": "code",
      "source": [
        "df = pd.DataFrame(data.data,columns=data.feature_names)\n",
        "df.head()"
      ],
      "metadata": {
        "colab": {
          "base_uri": "https://localhost:8080/",
          "height": 334
        },
        "id": "5-OxDisg_05T",
        "outputId": "baf771b3-f012-409a-e584-577b5c82daf9"
      },
      "execution_count": null,
      "outputs": [
        {
          "output_type": "execute_result",
          "data": {
            "text/plain": [
              "   mean radius  mean texture  mean perimeter  mean area  mean smoothness  \\\n",
              "0        17.99         10.38          122.80     1001.0          0.11840   \n",
              "1        20.57         17.77          132.90     1326.0          0.08474   \n",
              "2        19.69         21.25          130.00     1203.0          0.10960   \n",
              "3        11.42         20.38           77.58      386.1          0.14250   \n",
              "4        20.29         14.34          135.10     1297.0          0.10030   \n",
              "\n",
              "   mean compactness  mean concavity  mean concave points  mean symmetry  \\\n",
              "0           0.27760          0.3001              0.14710         0.2419   \n",
              "1           0.07864          0.0869              0.07017         0.1812   \n",
              "2           0.15990          0.1974              0.12790         0.2069   \n",
              "3           0.28390          0.2414              0.10520         0.2597   \n",
              "4           0.13280          0.1980              0.10430         0.1809   \n",
              "\n",
              "   mean fractal dimension  ...  worst radius  worst texture  worst perimeter  \\\n",
              "0                 0.07871  ...         25.38          17.33           184.60   \n",
              "1                 0.05667  ...         24.99          23.41           158.80   \n",
              "2                 0.05999  ...         23.57          25.53           152.50   \n",
              "3                 0.09744  ...         14.91          26.50            98.87   \n",
              "4                 0.05883  ...         22.54          16.67           152.20   \n",
              "\n",
              "   worst area  worst smoothness  worst compactness  worst concavity  \\\n",
              "0      2019.0            0.1622             0.6656           0.7119   \n",
              "1      1956.0            0.1238             0.1866           0.2416   \n",
              "2      1709.0            0.1444             0.4245           0.4504   \n",
              "3       567.7            0.2098             0.8663           0.6869   \n",
              "4      1575.0            0.1374             0.2050           0.4000   \n",
              "\n",
              "   worst concave points  worst symmetry  worst fractal dimension  \n",
              "0                0.2654          0.4601                  0.11890  \n",
              "1                0.1860          0.2750                  0.08902  \n",
              "2                0.2430          0.3613                  0.08758  \n",
              "3                0.2575          0.6638                  0.17300  \n",
              "4                0.1625          0.2364                  0.07678  \n",
              "\n",
              "[5 rows x 30 columns]"
            ],
            "text/html": [
              "\n",
              "  <div id=\"df-3ad3f755-13a0-46e4-acdb-a1e20eb6ec9a\">\n",
              "    <div class=\"colab-df-container\">\n",
              "      <div>\n",
              "<style scoped>\n",
              "    .dataframe tbody tr th:only-of-type {\n",
              "        vertical-align: middle;\n",
              "    }\n",
              "\n",
              "    .dataframe tbody tr th {\n",
              "        vertical-align: top;\n",
              "    }\n",
              "\n",
              "    .dataframe thead th {\n",
              "        text-align: right;\n",
              "    }\n",
              "</style>\n",
              "<table border=\"1\" class=\"dataframe\">\n",
              "  <thead>\n",
              "    <tr style=\"text-align: right;\">\n",
              "      <th></th>\n",
              "      <th>mean radius</th>\n",
              "      <th>mean texture</th>\n",
              "      <th>mean perimeter</th>\n",
              "      <th>mean area</th>\n",
              "      <th>mean smoothness</th>\n",
              "      <th>mean compactness</th>\n",
              "      <th>mean concavity</th>\n",
              "      <th>mean concave points</th>\n",
              "      <th>mean symmetry</th>\n",
              "      <th>mean fractal dimension</th>\n",
              "      <th>...</th>\n",
              "      <th>worst radius</th>\n",
              "      <th>worst texture</th>\n",
              "      <th>worst perimeter</th>\n",
              "      <th>worst area</th>\n",
              "      <th>worst smoothness</th>\n",
              "      <th>worst compactness</th>\n",
              "      <th>worst concavity</th>\n",
              "      <th>worst concave points</th>\n",
              "      <th>worst symmetry</th>\n",
              "      <th>worst fractal dimension</th>\n",
              "    </tr>\n",
              "  </thead>\n",
              "  <tbody>\n",
              "    <tr>\n",
              "      <th>0</th>\n",
              "      <td>17.99</td>\n",
              "      <td>10.38</td>\n",
              "      <td>122.80</td>\n",
              "      <td>1001.0</td>\n",
              "      <td>0.11840</td>\n",
              "      <td>0.27760</td>\n",
              "      <td>0.3001</td>\n",
              "      <td>0.14710</td>\n",
              "      <td>0.2419</td>\n",
              "      <td>0.07871</td>\n",
              "      <td>...</td>\n",
              "      <td>25.38</td>\n",
              "      <td>17.33</td>\n",
              "      <td>184.60</td>\n",
              "      <td>2019.0</td>\n",
              "      <td>0.1622</td>\n",
              "      <td>0.6656</td>\n",
              "      <td>0.7119</td>\n",
              "      <td>0.2654</td>\n",
              "      <td>0.4601</td>\n",
              "      <td>0.11890</td>\n",
              "    </tr>\n",
              "    <tr>\n",
              "      <th>1</th>\n",
              "      <td>20.57</td>\n",
              "      <td>17.77</td>\n",
              "      <td>132.90</td>\n",
              "      <td>1326.0</td>\n",
              "      <td>0.08474</td>\n",
              "      <td>0.07864</td>\n",
              "      <td>0.0869</td>\n",
              "      <td>0.07017</td>\n",
              "      <td>0.1812</td>\n",
              "      <td>0.05667</td>\n",
              "      <td>...</td>\n",
              "      <td>24.99</td>\n",
              "      <td>23.41</td>\n",
              "      <td>158.80</td>\n",
              "      <td>1956.0</td>\n",
              "      <td>0.1238</td>\n",
              "      <td>0.1866</td>\n",
              "      <td>0.2416</td>\n",
              "      <td>0.1860</td>\n",
              "      <td>0.2750</td>\n",
              "      <td>0.08902</td>\n",
              "    </tr>\n",
              "    <tr>\n",
              "      <th>2</th>\n",
              "      <td>19.69</td>\n",
              "      <td>21.25</td>\n",
              "      <td>130.00</td>\n",
              "      <td>1203.0</td>\n",
              "      <td>0.10960</td>\n",
              "      <td>0.15990</td>\n",
              "      <td>0.1974</td>\n",
              "      <td>0.12790</td>\n",
              "      <td>0.2069</td>\n",
              "      <td>0.05999</td>\n",
              "      <td>...</td>\n",
              "      <td>23.57</td>\n",
              "      <td>25.53</td>\n",
              "      <td>152.50</td>\n",
              "      <td>1709.0</td>\n",
              "      <td>0.1444</td>\n",
              "      <td>0.4245</td>\n",
              "      <td>0.4504</td>\n",
              "      <td>0.2430</td>\n",
              "      <td>0.3613</td>\n",
              "      <td>0.08758</td>\n",
              "    </tr>\n",
              "    <tr>\n",
              "      <th>3</th>\n",
              "      <td>11.42</td>\n",
              "      <td>20.38</td>\n",
              "      <td>77.58</td>\n",
              "      <td>386.1</td>\n",
              "      <td>0.14250</td>\n",
              "      <td>0.28390</td>\n",
              "      <td>0.2414</td>\n",
              "      <td>0.10520</td>\n",
              "      <td>0.2597</td>\n",
              "      <td>0.09744</td>\n",
              "      <td>...</td>\n",
              "      <td>14.91</td>\n",
              "      <td>26.50</td>\n",
              "      <td>98.87</td>\n",
              "      <td>567.7</td>\n",
              "      <td>0.2098</td>\n",
              "      <td>0.8663</td>\n",
              "      <td>0.6869</td>\n",
              "      <td>0.2575</td>\n",
              "      <td>0.6638</td>\n",
              "      <td>0.17300</td>\n",
              "    </tr>\n",
              "    <tr>\n",
              "      <th>4</th>\n",
              "      <td>20.29</td>\n",
              "      <td>14.34</td>\n",
              "      <td>135.10</td>\n",
              "      <td>1297.0</td>\n",
              "      <td>0.10030</td>\n",
              "      <td>0.13280</td>\n",
              "      <td>0.1980</td>\n",
              "      <td>0.10430</td>\n",
              "      <td>0.1809</td>\n",
              "      <td>0.05883</td>\n",
              "      <td>...</td>\n",
              "      <td>22.54</td>\n",
              "      <td>16.67</td>\n",
              "      <td>152.20</td>\n",
              "      <td>1575.0</td>\n",
              "      <td>0.1374</td>\n",
              "      <td>0.2050</td>\n",
              "      <td>0.4000</td>\n",
              "      <td>0.1625</td>\n",
              "      <td>0.2364</td>\n",
              "      <td>0.07678</td>\n",
              "    </tr>\n",
              "  </tbody>\n",
              "</table>\n",
              "<p>5 rows × 30 columns</p>\n",
              "</div>\n",
              "      <button class=\"colab-df-convert\" onclick=\"convertToInteractive('df-3ad3f755-13a0-46e4-acdb-a1e20eb6ec9a')\"\n",
              "              title=\"Convert this dataframe to an interactive table.\"\n",
              "              style=\"display:none;\">\n",
              "        \n",
              "  <svg xmlns=\"http://www.w3.org/2000/svg\" height=\"24px\"viewBox=\"0 0 24 24\"\n",
              "       width=\"24px\">\n",
              "    <path d=\"M0 0h24v24H0V0z\" fill=\"none\"/>\n",
              "    <path d=\"M18.56 5.44l.94 2.06.94-2.06 2.06-.94-2.06-.94-.94-2.06-.94 2.06-2.06.94zm-11 1L8.5 8.5l.94-2.06 2.06-.94-2.06-.94L8.5 2.5l-.94 2.06-2.06.94zm10 10l.94 2.06.94-2.06 2.06-.94-2.06-.94-.94-2.06-.94 2.06-2.06.94z\"/><path d=\"M17.41 7.96l-1.37-1.37c-.4-.4-.92-.59-1.43-.59-.52 0-1.04.2-1.43.59L10.3 9.45l-7.72 7.72c-.78.78-.78 2.05 0 2.83L4 21.41c.39.39.9.59 1.41.59.51 0 1.02-.2 1.41-.59l7.78-7.78 2.81-2.81c.8-.78.8-2.07 0-2.86zM5.41 20L4 18.59l7.72-7.72 1.47 1.35L5.41 20z\"/>\n",
              "  </svg>\n",
              "      </button>\n",
              "      \n",
              "  <style>\n",
              "    .colab-df-container {\n",
              "      display:flex;\n",
              "      flex-wrap:wrap;\n",
              "      gap: 12px;\n",
              "    }\n",
              "\n",
              "    .colab-df-convert {\n",
              "      background-color: #E8F0FE;\n",
              "      border: none;\n",
              "      border-radius: 50%;\n",
              "      cursor: pointer;\n",
              "      display: none;\n",
              "      fill: #1967D2;\n",
              "      height: 32px;\n",
              "      padding: 0 0 0 0;\n",
              "      width: 32px;\n",
              "    }\n",
              "\n",
              "    .colab-df-convert:hover {\n",
              "      background-color: #E2EBFA;\n",
              "      box-shadow: 0px 1px 2px rgba(60, 64, 67, 0.3), 0px 1px 3px 1px rgba(60, 64, 67, 0.15);\n",
              "      fill: #174EA6;\n",
              "    }\n",
              "\n",
              "    [theme=dark] .colab-df-convert {\n",
              "      background-color: #3B4455;\n",
              "      fill: #D2E3FC;\n",
              "    }\n",
              "\n",
              "    [theme=dark] .colab-df-convert:hover {\n",
              "      background-color: #434B5C;\n",
              "      box-shadow: 0px 1px 3px 1px rgba(0, 0, 0, 0.15);\n",
              "      filter: drop-shadow(0px 1px 2px rgba(0, 0, 0, 0.3));\n",
              "      fill: #FFFFFF;\n",
              "    }\n",
              "  </style>\n",
              "\n",
              "      <script>\n",
              "        const buttonEl =\n",
              "          document.querySelector('#df-3ad3f755-13a0-46e4-acdb-a1e20eb6ec9a button.colab-df-convert');\n",
              "        buttonEl.style.display =\n",
              "          google.colab.kernel.accessAllowed ? 'block' : 'none';\n",
              "\n",
              "        async function convertToInteractive(key) {\n",
              "          const element = document.querySelector('#df-3ad3f755-13a0-46e4-acdb-a1e20eb6ec9a');\n",
              "          const dataTable =\n",
              "            await google.colab.kernel.invokeFunction('convertToInteractive',\n",
              "                                                     [key], {});\n",
              "          if (!dataTable) return;\n",
              "\n",
              "          const docLinkHtml = 'Like what you see? Visit the ' +\n",
              "            '<a target=\"_blank\" href=https://colab.research.google.com/notebooks/data_table.ipynb>data table notebook</a>'\n",
              "            + ' to learn more about interactive tables.';\n",
              "          element.innerHTML = '';\n",
              "          dataTable['output_type'] = 'display_data';\n",
              "          await google.colab.output.renderOutput(dataTable, element);\n",
              "          const docLink = document.createElement('div');\n",
              "          docLink.innerHTML = docLinkHtml;\n",
              "          element.appendChild(docLink);\n",
              "        }\n",
              "      </script>\n",
              "    </div>\n",
              "  </div>\n",
              "  "
            ]
          },
          "metadata": {},
          "execution_count": 9
        }
      ]
    },
    {
      "cell_type": "code",
      "source": [
        "x_train,x_test,y_train,y_test=train_test_split(data.data,data.target,test_size=0.33)\n"
      ],
      "metadata": {
        "id": "YvS75pRoABnH"
      },
      "execution_count": null,
      "outputs": []
    },
    {
      "cell_type": "code",
      "source": [
        "scale=StandardScaler()\n",
        "x_train=scale.fit_transform(x_train)\n",
        "x_test=scale.transform(x_test)"
      ],
      "metadata": {
        "id": "EcR8JrjpEeOV"
      },
      "execution_count": null,
      "outputs": []
    },
    {
      "cell_type": "code",
      "source": [
        "N,D=x_train.shape\n"
      ],
      "metadata": {
        "id": "-tPhW13CFUFZ"
      },
      "execution_count": null,
      "outputs": []
    },
    {
      "cell_type": "code",
      "source": [
        "model=tf.keras.models.Sequential(\n",
        "    [tf.keras.layers.Input(shape=(D,)),\n",
        "     tf.keras.layers.Dense(8,activation='sigmoid'),\n",
        "    tf.keras.layers.Dense(1,activation='sigmoid')]\n",
        ")\n",
        "\n",
        "model.compile(optimizer='adam',loss='binary_crossentropy',metrics=['accuracy'])\n",
        "r=model.fit(x_train,y_train,validation_data=(x_test,y_test),epochs=100)"
      ],
      "metadata": {
        "colab": {
          "base_uri": "https://localhost:8080/"
        },
        "id": "hK_8a5-EGqS5",
        "outputId": "a5770793-e914-409f-e361-11f9c9c8e1a2"
      },
      "execution_count": null,
      "outputs": [
        {
          "output_type": "stream",
          "name": "stdout",
          "text": [
            "Epoch 1/100\n",
            "12/12 [==============================] - 1s 12ms/step - loss: 0.6045 - accuracy: 0.8399 - val_loss: 0.5726 - val_accuracy: 0.8564\n",
            "Epoch 2/100\n",
            "12/12 [==============================] - 0s 3ms/step - loss: 0.5494 - accuracy: 0.9081 - val_loss: 0.5170 - val_accuracy: 0.9096\n",
            "Epoch 3/100\n",
            "12/12 [==============================] - 0s 3ms/step - loss: 0.5004 - accuracy: 0.9265 - val_loss: 0.4722 - val_accuracy: 0.9468\n",
            "Epoch 4/100\n",
            "12/12 [==============================] - 0s 3ms/step - loss: 0.4608 - accuracy: 0.9449 - val_loss: 0.4344 - val_accuracy: 0.9468\n",
            "Epoch 5/100\n",
            "12/12 [==============================] - 0s 3ms/step - loss: 0.4275 - accuracy: 0.9475 - val_loss: 0.4022 - val_accuracy: 0.9468\n",
            "Epoch 6/100\n",
            "12/12 [==============================] - 0s 3ms/step - loss: 0.3989 - accuracy: 0.9475 - val_loss: 0.3751 - val_accuracy: 0.9415\n",
            "Epoch 7/100\n",
            "12/12 [==============================] - 0s 3ms/step - loss: 0.3746 - accuracy: 0.9449 - val_loss: 0.3513 - val_accuracy: 0.9468\n",
            "Epoch 8/100\n",
            "12/12 [==============================] - 0s 3ms/step - loss: 0.3534 - accuracy: 0.9423 - val_loss: 0.3308 - val_accuracy: 0.9574\n",
            "Epoch 9/100\n",
            "12/12 [==============================] - 0s 3ms/step - loss: 0.3345 - accuracy: 0.9449 - val_loss: 0.3133 - val_accuracy: 0.9574\n",
            "Epoch 10/100\n",
            "12/12 [==============================] - 0s 3ms/step - loss: 0.3181 - accuracy: 0.9475 - val_loss: 0.2974 - val_accuracy: 0.9574\n",
            "Epoch 11/100\n",
            "12/12 [==============================] - 0s 3ms/step - loss: 0.3031 - accuracy: 0.9475 - val_loss: 0.2833 - val_accuracy: 0.9628\n",
            "Epoch 12/100\n",
            "12/12 [==============================] - 0s 4ms/step - loss: 0.2898 - accuracy: 0.9475 - val_loss: 0.2707 - val_accuracy: 0.9628\n",
            "Epoch 13/100\n",
            "12/12 [==============================] - 0s 5ms/step - loss: 0.2777 - accuracy: 0.9501 - val_loss: 0.2592 - val_accuracy: 0.9681\n",
            "Epoch 14/100\n",
            "12/12 [==============================] - 0s 3ms/step - loss: 0.2665 - accuracy: 0.9528 - val_loss: 0.2490 - val_accuracy: 0.9681\n",
            "Epoch 15/100\n",
            "12/12 [==============================] - 0s 3ms/step - loss: 0.2563 - accuracy: 0.9554 - val_loss: 0.2394 - val_accuracy: 0.9681\n",
            "Epoch 16/100\n",
            "12/12 [==============================] - 0s 4ms/step - loss: 0.2471 - accuracy: 0.9554 - val_loss: 0.2304 - val_accuracy: 0.9787\n",
            "Epoch 17/100\n",
            "12/12 [==============================] - 0s 4ms/step - loss: 0.2382 - accuracy: 0.9554 - val_loss: 0.2225 - val_accuracy: 0.9787\n",
            "Epoch 18/100\n",
            "12/12 [==============================] - 0s 3ms/step - loss: 0.2302 - accuracy: 0.9606 - val_loss: 0.2149 - val_accuracy: 0.9787\n",
            "Epoch 19/100\n",
            "12/12 [==============================] - 0s 3ms/step - loss: 0.2225 - accuracy: 0.9633 - val_loss: 0.2079 - val_accuracy: 0.9787\n",
            "Epoch 20/100\n",
            "12/12 [==============================] - 0s 5ms/step - loss: 0.2155 - accuracy: 0.9659 - val_loss: 0.2014 - val_accuracy: 0.9787\n",
            "Epoch 21/100\n",
            "12/12 [==============================] - 0s 5ms/step - loss: 0.2091 - accuracy: 0.9711 - val_loss: 0.1952 - val_accuracy: 0.9787\n",
            "Epoch 22/100\n",
            "12/12 [==============================] - 0s 3ms/step - loss: 0.2027 - accuracy: 0.9711 - val_loss: 0.1894 - val_accuracy: 0.9787\n",
            "Epoch 23/100\n",
            "12/12 [==============================] - 0s 3ms/step - loss: 0.1970 - accuracy: 0.9711 - val_loss: 0.1840 - val_accuracy: 0.9787\n",
            "Epoch 24/100\n",
            "12/12 [==============================] - 0s 3ms/step - loss: 0.1916 - accuracy: 0.9711 - val_loss: 0.1788 - val_accuracy: 0.9787\n",
            "Epoch 25/100\n",
            "12/12 [==============================] - 0s 3ms/step - loss: 0.1865 - accuracy: 0.9711 - val_loss: 0.1739 - val_accuracy: 0.9840\n",
            "Epoch 26/100\n",
            "12/12 [==============================] - 0s 4ms/step - loss: 0.1815 - accuracy: 0.9711 - val_loss: 0.1694 - val_accuracy: 0.9840\n",
            "Epoch 27/100\n",
            "12/12 [==============================] - 0s 3ms/step - loss: 0.1771 - accuracy: 0.9711 - val_loss: 0.1650 - val_accuracy: 0.9840\n",
            "Epoch 28/100\n",
            "12/12 [==============================] - 0s 3ms/step - loss: 0.1727 - accuracy: 0.9711 - val_loss: 0.1610 - val_accuracy: 0.9840\n",
            "Epoch 29/100\n",
            "12/12 [==============================] - 0s 3ms/step - loss: 0.1688 - accuracy: 0.9711 - val_loss: 0.1570 - val_accuracy: 0.9840\n",
            "Epoch 30/100\n",
            "12/12 [==============================] - 0s 3ms/step - loss: 0.1651 - accuracy: 0.9711 - val_loss: 0.1532 - val_accuracy: 0.9840\n",
            "Epoch 31/100\n",
            "12/12 [==============================] - 0s 3ms/step - loss: 0.1614 - accuracy: 0.9711 - val_loss: 0.1497 - val_accuracy: 0.9840\n",
            "Epoch 32/100\n",
            "12/12 [==============================] - 0s 3ms/step - loss: 0.1580 - accuracy: 0.9738 - val_loss: 0.1464 - val_accuracy: 0.9840\n",
            "Epoch 33/100\n",
            "12/12 [==============================] - 0s 3ms/step - loss: 0.1548 - accuracy: 0.9711 - val_loss: 0.1432 - val_accuracy: 0.9840\n",
            "Epoch 34/100\n",
            "12/12 [==============================] - 0s 3ms/step - loss: 0.1518 - accuracy: 0.9711 - val_loss: 0.1401 - val_accuracy: 0.9840\n",
            "Epoch 35/100\n",
            "12/12 [==============================] - 0s 3ms/step - loss: 0.1489 - accuracy: 0.9711 - val_loss: 0.1372 - val_accuracy: 0.9840\n",
            "Epoch 36/100\n",
            "12/12 [==============================] - 0s 3ms/step - loss: 0.1461 - accuracy: 0.9711 - val_loss: 0.1344 - val_accuracy: 0.9840\n",
            "Epoch 37/100\n",
            "12/12 [==============================] - 0s 4ms/step - loss: 0.1434 - accuracy: 0.9711 - val_loss: 0.1317 - val_accuracy: 0.9840\n",
            "Epoch 38/100\n",
            "12/12 [==============================] - 0s 4ms/step - loss: 0.1409 - accuracy: 0.9711 - val_loss: 0.1291 - val_accuracy: 0.9840\n",
            "Epoch 39/100\n",
            "12/12 [==============================] - 0s 5ms/step - loss: 0.1386 - accuracy: 0.9738 - val_loss: 0.1266 - val_accuracy: 0.9840\n",
            "Epoch 40/100\n",
            "12/12 [==============================] - 0s 5ms/step - loss: 0.1362 - accuracy: 0.9738 - val_loss: 0.1244 - val_accuracy: 0.9840\n",
            "Epoch 41/100\n",
            "12/12 [==============================] - 0s 4ms/step - loss: 0.1341 - accuracy: 0.9738 - val_loss: 0.1221 - val_accuracy: 0.9840\n",
            "Epoch 42/100\n",
            "12/12 [==============================] - 0s 4ms/step - loss: 0.1320 - accuracy: 0.9738 - val_loss: 0.1198 - val_accuracy: 0.9840\n",
            "Epoch 43/100\n",
            "12/12 [==============================] - 0s 4ms/step - loss: 0.1300 - accuracy: 0.9764 - val_loss: 0.1177 - val_accuracy: 0.9840\n",
            "Epoch 44/100\n",
            "12/12 [==============================] - 0s 3ms/step - loss: 0.1280 - accuracy: 0.9764 - val_loss: 0.1157 - val_accuracy: 0.9840\n",
            "Epoch 45/100\n",
            "12/12 [==============================] - 0s 4ms/step - loss: 0.1262 - accuracy: 0.9790 - val_loss: 0.1138 - val_accuracy: 0.9840\n",
            "Epoch 46/100\n",
            "12/12 [==============================] - 0s 3ms/step - loss: 0.1244 - accuracy: 0.9790 - val_loss: 0.1119 - val_accuracy: 0.9840\n",
            "Epoch 47/100\n",
            "12/12 [==============================] - 0s 3ms/step - loss: 0.1227 - accuracy: 0.9790 - val_loss: 0.1101 - val_accuracy: 0.9840\n",
            "Epoch 48/100\n",
            "12/12 [==============================] - 0s 6ms/step - loss: 0.1211 - accuracy: 0.9790 - val_loss: 0.1084 - val_accuracy: 0.9840\n",
            "Epoch 49/100\n",
            "12/12 [==============================] - 0s 4ms/step - loss: 0.1195 - accuracy: 0.9790 - val_loss: 0.1066 - val_accuracy: 0.9840\n",
            "Epoch 50/100\n",
            "12/12 [==============================] - 0s 5ms/step - loss: 0.1180 - accuracy: 0.9790 - val_loss: 0.1050 - val_accuracy: 0.9840\n",
            "Epoch 51/100\n",
            "12/12 [==============================] - 0s 4ms/step - loss: 0.1166 - accuracy: 0.9790 - val_loss: 0.1035 - val_accuracy: 0.9840\n",
            "Epoch 52/100\n",
            "12/12 [==============================] - 0s 5ms/step - loss: 0.1151 - accuracy: 0.9790 - val_loss: 0.1019 - val_accuracy: 0.9840\n",
            "Epoch 53/100\n",
            "12/12 [==============================] - 0s 3ms/step - loss: 0.1138 - accuracy: 0.9816 - val_loss: 0.1005 - val_accuracy: 0.9840\n",
            "Epoch 54/100\n",
            "12/12 [==============================] - 0s 3ms/step - loss: 0.1124 - accuracy: 0.9816 - val_loss: 0.0991 - val_accuracy: 0.9840\n",
            "Epoch 55/100\n",
            "12/12 [==============================] - 0s 5ms/step - loss: 0.1112 - accuracy: 0.9816 - val_loss: 0.0977 - val_accuracy: 0.9840\n",
            "Epoch 56/100\n",
            "12/12 [==============================] - 0s 4ms/step - loss: 0.1100 - accuracy: 0.9816 - val_loss: 0.0964 - val_accuracy: 0.9840\n",
            "Epoch 57/100\n",
            "12/12 [==============================] - 0s 3ms/step - loss: 0.1088 - accuracy: 0.9816 - val_loss: 0.0951 - val_accuracy: 0.9840\n",
            "Epoch 58/100\n",
            "12/12 [==============================] - 0s 4ms/step - loss: 0.1076 - accuracy: 0.9816 - val_loss: 0.0940 - val_accuracy: 0.9894\n",
            "Epoch 59/100\n",
            "12/12 [==============================] - 0s 3ms/step - loss: 0.1066 - accuracy: 0.9816 - val_loss: 0.0927 - val_accuracy: 0.9894\n",
            "Epoch 60/100\n",
            "12/12 [==============================] - 0s 3ms/step - loss: 0.1055 - accuracy: 0.9816 - val_loss: 0.0916 - val_accuracy: 0.9894\n",
            "Epoch 61/100\n",
            "12/12 [==============================] - 0s 4ms/step - loss: 0.1044 - accuracy: 0.9816 - val_loss: 0.0905 - val_accuracy: 0.9894\n",
            "Epoch 62/100\n",
            "12/12 [==============================] - 0s 3ms/step - loss: 0.1035 - accuracy: 0.9816 - val_loss: 0.0893 - val_accuracy: 0.9840\n",
            "Epoch 63/100\n",
            "12/12 [==============================] - 0s 3ms/step - loss: 0.1024 - accuracy: 0.9816 - val_loss: 0.0883 - val_accuracy: 0.9840\n",
            "Epoch 64/100\n",
            "12/12 [==============================] - 0s 3ms/step - loss: 0.1015 - accuracy: 0.9816 - val_loss: 0.0872 - val_accuracy: 0.9840\n",
            "Epoch 65/100\n",
            "12/12 [==============================] - 0s 3ms/step - loss: 0.1006 - accuracy: 0.9816 - val_loss: 0.0863 - val_accuracy: 0.9840\n",
            "Epoch 66/100\n",
            "12/12 [==============================] - 0s 3ms/step - loss: 0.0997 - accuracy: 0.9816 - val_loss: 0.0853 - val_accuracy: 0.9840\n",
            "Epoch 67/100\n",
            "12/12 [==============================] - 0s 5ms/step - loss: 0.0988 - accuracy: 0.9816 - val_loss: 0.0843 - val_accuracy: 0.9840\n",
            "Epoch 68/100\n",
            "12/12 [==============================] - 0s 3ms/step - loss: 0.0980 - accuracy: 0.9816 - val_loss: 0.0834 - val_accuracy: 0.9840\n",
            "Epoch 69/100\n",
            "12/12 [==============================] - 0s 3ms/step - loss: 0.0972 - accuracy: 0.9816 - val_loss: 0.0826 - val_accuracy: 0.9840\n",
            "Epoch 70/100\n",
            "12/12 [==============================] - 0s 3ms/step - loss: 0.0964 - accuracy: 0.9816 - val_loss: 0.0818 - val_accuracy: 0.9840\n",
            "Epoch 71/100\n",
            "12/12 [==============================] - 0s 5ms/step - loss: 0.0956 - accuracy: 0.9816 - val_loss: 0.0809 - val_accuracy: 0.9840\n",
            "Epoch 72/100\n",
            "12/12 [==============================] - 0s 4ms/step - loss: 0.0949 - accuracy: 0.9816 - val_loss: 0.0800 - val_accuracy: 0.9840\n",
            "Epoch 73/100\n",
            "12/12 [==============================] - 0s 3ms/step - loss: 0.0941 - accuracy: 0.9816 - val_loss: 0.0794 - val_accuracy: 0.9840\n",
            "Epoch 74/100\n",
            "12/12 [==============================] - 0s 3ms/step - loss: 0.0934 - accuracy: 0.9816 - val_loss: 0.0786 - val_accuracy: 0.9840\n",
            "Epoch 75/100\n",
            "12/12 [==============================] - 0s 3ms/step - loss: 0.0927 - accuracy: 0.9843 - val_loss: 0.0778 - val_accuracy: 0.9840\n",
            "Epoch 76/100\n",
            "12/12 [==============================] - 0s 3ms/step - loss: 0.0921 - accuracy: 0.9843 - val_loss: 0.0771 - val_accuracy: 0.9840\n",
            "Epoch 77/100\n",
            "12/12 [==============================] - 0s 5ms/step - loss: 0.0914 - accuracy: 0.9843 - val_loss: 0.0763 - val_accuracy: 0.9840\n",
            "Epoch 78/100\n",
            "12/12 [==============================] - 0s 4ms/step - loss: 0.0907 - accuracy: 0.9843 - val_loss: 0.0756 - val_accuracy: 0.9840\n",
            "Epoch 79/100\n",
            "12/12 [==============================] - 0s 3ms/step - loss: 0.0901 - accuracy: 0.9843 - val_loss: 0.0750 - val_accuracy: 0.9840\n",
            "Epoch 80/100\n",
            "12/12 [==============================] - 0s 4ms/step - loss: 0.0895 - accuracy: 0.9869 - val_loss: 0.0744 - val_accuracy: 0.9840\n",
            "Epoch 81/100\n",
            "12/12 [==============================] - 0s 5ms/step - loss: 0.0889 - accuracy: 0.9869 - val_loss: 0.0738 - val_accuracy: 0.9840\n",
            "Epoch 82/100\n",
            "12/12 [==============================] - 0s 5ms/step - loss: 0.0883 - accuracy: 0.9869 - val_loss: 0.0732 - val_accuracy: 0.9840\n",
            "Epoch 83/100\n",
            "12/12 [==============================] - 0s 5ms/step - loss: 0.0877 - accuracy: 0.9869 - val_loss: 0.0726 - val_accuracy: 0.9840\n",
            "Epoch 84/100\n",
            "12/12 [==============================] - 0s 4ms/step - loss: 0.0872 - accuracy: 0.9869 - val_loss: 0.0721 - val_accuracy: 0.9840\n",
            "Epoch 85/100\n",
            "12/12 [==============================] - 0s 6ms/step - loss: 0.0867 - accuracy: 0.9869 - val_loss: 0.0715 - val_accuracy: 0.9840\n",
            "Epoch 86/100\n",
            "12/12 [==============================] - 0s 5ms/step - loss: 0.0861 - accuracy: 0.9869 - val_loss: 0.0711 - val_accuracy: 0.9840\n",
            "Epoch 87/100\n",
            "12/12 [==============================] - 0s 4ms/step - loss: 0.0856 - accuracy: 0.9869 - val_loss: 0.0704 - val_accuracy: 0.9840\n",
            "Epoch 88/100\n",
            "12/12 [==============================] - 0s 5ms/step - loss: 0.0850 - accuracy: 0.9869 - val_loss: 0.0700 - val_accuracy: 0.9840\n",
            "Epoch 89/100\n",
            "12/12 [==============================] - 0s 4ms/step - loss: 0.0846 - accuracy: 0.9869 - val_loss: 0.0695 - val_accuracy: 0.9840\n",
            "Epoch 90/100\n",
            "12/12 [==============================] - 0s 4ms/step - loss: 0.0841 - accuracy: 0.9869 - val_loss: 0.0689 - val_accuracy: 0.9840\n",
            "Epoch 91/100\n",
            "12/12 [==============================] - 0s 3ms/step - loss: 0.0836 - accuracy: 0.9869 - val_loss: 0.0685 - val_accuracy: 0.9840\n",
            "Epoch 92/100\n",
            "12/12 [==============================] - 0s 5ms/step - loss: 0.0832 - accuracy: 0.9869 - val_loss: 0.0680 - val_accuracy: 0.9840\n",
            "Epoch 93/100\n",
            "12/12 [==============================] - 0s 5ms/step - loss: 0.0827 - accuracy: 0.9869 - val_loss: 0.0676 - val_accuracy: 0.9840\n",
            "Epoch 94/100\n",
            "12/12 [==============================] - 0s 3ms/step - loss: 0.0822 - accuracy: 0.9869 - val_loss: 0.0671 - val_accuracy: 0.9840\n",
            "Epoch 95/100\n",
            "12/12 [==============================] - 0s 3ms/step - loss: 0.0818 - accuracy: 0.9869 - val_loss: 0.0667 - val_accuracy: 0.9840\n",
            "Epoch 96/100\n",
            "12/12 [==============================] - 0s 5ms/step - loss: 0.0814 - accuracy: 0.9869 - val_loss: 0.0663 - val_accuracy: 0.9840\n",
            "Epoch 97/100\n",
            "12/12 [==============================] - 0s 3ms/step - loss: 0.0810 - accuracy: 0.9869 - val_loss: 0.0658 - val_accuracy: 0.9840\n",
            "Epoch 98/100\n",
            "12/12 [==============================] - 0s 3ms/step - loss: 0.0805 - accuracy: 0.9869 - val_loss: 0.0655 - val_accuracy: 0.9840\n",
            "Epoch 99/100\n",
            "12/12 [==============================] - 0s 4ms/step - loss: 0.0801 - accuracy: 0.9869 - val_loss: 0.0652 - val_accuracy: 0.9840\n",
            "Epoch 100/100\n",
            "12/12 [==============================] - 0s 3ms/step - loss: 0.0798 - accuracy: 0.9869 - val_loss: 0.0647 - val_accuracy: 0.9840\n"
          ]
        }
      ]
    },
    {
      "cell_type": "code",
      "source": [
        "print('train score',model.evaluate(x_train,y_train))\n",
        "print('test score',model.evaluate(x_test,y_test))"
      ],
      "metadata": {
        "colab": {
          "base_uri": "https://localhost:8080/"
        },
        "id": "_hRodakNHWO5",
        "outputId": "991c8843-0d81-4637-8b3b-b5b877e1f171"
      },
      "execution_count": null,
      "outputs": [
        {
          "output_type": "stream",
          "name": "stdout",
          "text": [
            "12/12 [==============================] - 0s 2ms/step - loss: 0.0542 - accuracy: 0.9895\n",
            "train score [0.054194867610931396, 0.9895012974739075]\n",
            "6/6 [==============================] - 0s 2ms/step - loss: 0.0801 - accuracy: 0.9734\n",
            "test score [0.08012674003839493, 0.9734042286872864]\n"
          ]
        }
      ]
    },
    {
      "cell_type": "code",
      "source": [
        "plt.figure(figsize=(10,10))\n",
        "plt.plot(r.history['loss'],label='loss')\n",
        "plt.plot(r.history['val_loss'],label='val_loss')\n",
        "plt.legend()"
      ],
      "metadata": {
        "colab": {
          "base_uri": "https://localhost:8080/",
          "height": 610
        },
        "id": "e6UACxGUJ8jl",
        "outputId": "cdc6c855-37c0-485e-81a1-bf3c64414b60"
      },
      "execution_count": null,
      "outputs": [
        {
          "output_type": "execute_result",
          "data": {
            "text/plain": [
              "<matplotlib.legend.Legend at 0x7f648e10ca10>"
            ]
          },
          "metadata": {},
          "execution_count": 23
        },
        {
          "output_type": "display_data",
          "data": {
            "text/plain": [
              "<Figure size 720x720 with 1 Axes>"
            ],
            "image/png": "[encoded data removed]"
          },
          "metadata": {
            "needs_background": "light"
          }
        }
      ]
    },
    {
      "cell_type": "code",
      "source": [
        "plt.figure(figsize=(10,10))\n",
        "plt.plot(r.history['accuracy'],label='accuracy',color='red')\n",
        "plt.plot(r.history['val_accuracy'],label='val_accuracy',color='green')\n",
        "plt.legend()"
      ],
      "metadata": {
        "colab": {
          "base_uri": "https://localhost:8080/",
          "height": 610
        },
        "id": "2urkKi_AKkPC",
        "outputId": "a897ade0-dd8d-4242-94d4-febb2268f96a"
      },
      "execution_count": null,
      "outputs": [
        {
          "output_type": "execute_result",
          "data": {
            "text/plain": [
              "<matplotlib.legend.Legend at 0x7f6484ac2a10>"
            ]
          },
          "metadata": {},
          "execution_count": 24
        },
        {
          "output_type": "display_data",
          "data": {
            "text/plain": [
              "<Figure size 720x720 with 1 Axes>"
            ],
            "image/png": "[encoded data removed]"
          },
          "metadata": {
            "needs_background": "light"
          }
        }
      ]
    },
    {
      "cell_type": "markdown",
      "source": [
        "# ***PREDICTIONS***"
      ],
      "metadata": {
        "id": "D83qRYvBr2RS"
      }
    },
    {
      "cell_type": "code",
      "source": [
        "pred=model.predict(x_test)\n",
        "pred[:10]\n"
      ],
      "metadata": {
        "colab": {
          "base_uri": "https://localhost:8080/"
        },
        "id": "1SPboaDmr82N",
        "outputId": "925294c9-c368-4c5d-d4ca-e06b3555952d"
      },
      "execution_count": null,
      "outputs": [
        {
          "output_type": "stream",
          "name": "stdout",
          "text": [
            "6/6 [==============================] - 0s 2ms/step\n"
          ]
        },
        {
          "output_type": "execute_result",
          "data": {
            "text/plain": [
              "array([[4.2246369e-01],\n",
              "       [9.9329847e-01],\n",
              "       [2.5839129e-01],\n",
              "       [9.8955286e-01],\n",
              "       [9.9985373e-01],\n",
              "       [4.5054854e-04],\n",
              "       [9.9931186e-01],\n",
              "       [9.9995714e-01],\n",
              "       [2.4896939e-04],\n",
              "       [9.9622548e-01]], dtype=float32)"
            ]
          },
          "metadata": {},
          "execution_count": 25
        }
      ]
    },
    {
      "cell_type": "code",
      "source": [
        "import numpy as np\n",
        "pred=np.round(pred).flatten()\n",
        "pred"
      ],
      "metadata": {
        "colab": {
          "base_uri": "https://localhost:8080/"
        },
        "id": "9zpSIt2osB3Q",
        "outputId": "fd2a6e3d-76f5-45b0-c309-754eacb327e2"
      },
      "execution_count": null,
      "outputs": [
        {
          "output_type": "execute_result",
          "data": {
            "text/plain": [
              "array([0., 1., 0., 1., 1., 0., 1., 1., 0., 1., 1., 0., 1., 1., 1., 0., 0.,\n",
              "       1., 1., 1., 0., 1., 0., 1., 1., 1., 0., 1., 1., 1., 0., 0., 0., 0.,\n",
              "       1., 1., 1., 0., 1., 1., 1., 1., 1., 0., 1., 0., 1., 1., 0., 1., 1.,\n",
              "       0., 0., 0., 1., 1., 1., 0., 0., 0., 0., 1., 0., 1., 1., 0., 0., 0.,\n",
              "       1., 1., 1., 1., 1., 1., 1., 1., 1., 0., 0., 1., 1., 1., 1., 0., 1.,\n",
              "       1., 1., 0., 0., 0., 0., 1., 1., 1., 0., 1., 1., 0., 1., 1., 1., 1.,\n",
              "       1., 0., 1., 0., 1., 0., 1., 1., 1., 1., 0., 0., 0., 0., 0., 1., 1.,\n",
              "       1., 0., 1., 0., 1., 1., 1., 1., 1., 1., 0., 1., 0., 1., 0., 1., 1.,\n",
              "       0., 1., 1., 1., 1., 1., 1., 1., 1., 1., 1., 1., 1., 0., 1., 0., 1.,\n",
              "       1., 1., 0., 0., 1., 1., 1., 0., 1., 0., 1., 0., 1., 1., 0., 1., 1.,\n",
              "       1., 1., 1., 1., 0., 1., 1., 0., 1., 0., 0., 1., 1., 0., 1., 1., 0.,\n",
              "       1.], dtype=float32)"
            ]
          },
          "metadata": {},
          "execution_count": 26
        }
      ]
    }
  ]
}